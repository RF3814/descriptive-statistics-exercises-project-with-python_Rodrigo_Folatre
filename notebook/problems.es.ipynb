{
 "cells": [
  {
   "cell_type": "markdown",
   "id": "6805e3f1",
   "metadata": {},
   "source": [
    "# Problemas de Estadística Descriptiva\n",
    "\n",
    "## Ejercicio 1 – ¿Qué tan largos son los títulos de las películas?\n",
    "\n",
    "En este ejercicio vas a aplicar técnicas de estadística descriptiva sobre un conjunto de datos real: una base con 1000 películas populares del sitio IMDb.\n",
    "\n",
    "A partir del título de cada película, vas a:\n",
    "- Calcular la longitud del título (en caracteres).\n",
    "- Obtener métricas estadísticas clave: media, mediana, moda, rango, varianza, desviación estándar, asimetría y curtosis.\n",
    "- Identificar los títulos más largos y más cortos.\n",
    "- Visualizar la distribución de estas longitudes con un histograma y una curva de densidad.\n"
   ]
  },
  {
   "cell_type": "code",
   "execution_count": 2,
   "id": "ca3d2c0a",
   "metadata": {},
   "outputs": [
    {
     "name": "stdout",
     "output_type": "stream",
     "text": [
      "     star_rating                                            title  \\\n",
      "0            9.3                         The Shawshank Redemption   \n",
      "1            9.2                                    The Godfather   \n",
      "2            9.1                           The Godfather: Part II   \n",
      "3            9.0                                  The Dark Knight   \n",
      "4            8.9                                     Pulp Fiction   \n",
      "..           ...                                              ...   \n",
      "974          7.4                                          Tootsie   \n",
      "975          7.4                      Back to the Future Part III   \n",
      "976          7.4  Master and Commander: The Far Side of the World   \n",
      "977          7.4                                      Poltergeist   \n",
      "978          7.4                                      Wall Street   \n",
      "\n",
      "    content_rating      genre  duration  \\\n",
      "0                R      Crime       142   \n",
      "1                R      Crime       175   \n",
      "2                R      Crime       200   \n",
      "3            PG-13     Action       152   \n",
      "4                R      Crime       154   \n",
      "..             ...        ...       ...   \n",
      "974             PG     Comedy       116   \n",
      "975             PG  Adventure       118   \n",
      "976          PG-13     Action       138   \n",
      "977             PG     Horror       114   \n",
      "978              R      Crime       126   \n",
      "\n",
      "                                           actors_list  \n",
      "0    [u'Tim Robbins', u'Morgan Freeman', u'Bob Gunt...  \n",
      "1      [u'Marlon Brando', u'Al Pacino', u'James Caan']  \n",
      "2    [u'Al Pacino', u'Robert De Niro', u'Robert Duv...  \n",
      "3    [u'Christian Bale', u'Heath Ledger', u'Aaron E...  \n",
      "4    [u'John Travolta', u'Uma Thurman', u'Samuel L....  \n",
      "..                                                 ...  \n",
      "974  [u'Dustin Hoffman', u'Jessica Lange', u'Teri G...  \n",
      "975  [u'Michael J. Fox', u'Christopher Lloyd', u'Ma...  \n",
      "976  [u'Russell Crowe', u'Paul Bettany', u'Billy Bo...  \n",
      "977  [u'JoBeth Williams', u\"Heather O'Rourke\", u'Cr...  \n",
      "978  [u'Charlie Sheen', u'Michael Douglas', u'Tamar...  \n",
      "\n",
      "[979 rows x 6 columns]\n",
      "{'The Shawshank Redemption': 24, 'The Godfather': 13, 'The Godfather: Part II': 22, 'The Dark Knight': 15, 'Pulp Fiction': 12, '12 Angry Men': 12, 'The Good, the Bad and the Ugly': 30, 'The Lord of the Rings: The Return of the King': 45, \"Schindler's List\": 16, 'Fight Club': 10, 'The Lord of the Rings: The Fellowship of the Ring': 49, 'Inception': 9, 'Star Wars: Episode V - The Empire Strikes Back': 46, 'Forrest Gump': 12, 'The Lord of the Rings: The Two Towers': 37, 'Interstellar': 12, \"One Flew Over the Cuckoo's Nest\": 31, 'Seven Samurai': 13, 'Goodfellas': 10, 'Star Wars': 9, 'The Matrix': 10, 'City of God': 11, \"It's a Wonderful Life\": 21, 'The Usual Suspects': 18, 'Se7en': 5, 'Life Is Beautiful': 17, 'Once Upon a Time in the West': 28, 'The Silence of the Lambs': 24, 'Leon: The Professional': 22, 'City Lights': 11, 'Spirited Away': 13, 'The Intouchables': 16, 'Casablanca': 10, 'Whiplash': 8, 'American History X': 18, 'Modern Times': 12, 'Saving Private Ryan': 19, 'Raiders of the Lost Ark': 23, 'Rear Window': 11, 'Psycho': 6, 'The Green Mile': 14, 'Sunset Blvd.': 12, 'The Pianist': 11, 'The Dark Knight Rises': 21, 'Gladiator': 9, 'Terminator 2: Judgment Day': 26, 'Memento': 7, 'Taare Zameen Par': 16, 'Dr. Strangelove or: How I Learned to Stop Worrying and Love the Bomb': 68, 'The Departed': 12, 'Cinema Paradiso': 15, 'Apocalypse Now': 14, 'The Great Dictator': 18, 'The Prestige': 12, 'Back to the Future': 18, 'The Lion King': 13, 'The Lives of Others': 19, 'Alien': 5, 'Paths of Glory': 14, 'Django Unchained': 16, '3 Idiots': 8, 'Grave of the Fireflies': 22, 'The Shining': 11, 'M': 1, 'WALL-E': 6, 'Witness for the Prosecution': 27, 'Munna Bhai M.B.B.S.': 19, 'American Beauty': 15, 'Das Boot': 8, 'Princess Mononoke': 17, 'Amelie': 6, 'North by Northwest': 18, 'Rang De Basanti': 15, 'Jodaeiye Nader az Simin': 23, 'Citizen Kane': 12, 'Aliens': 6, 'Vertigo': 7, 'Oldeuboi': 8, 'Once Upon a Time in America': 27, 'Double Indemnity': 16, 'Star Wars: Episode VI - Return of the Jedi': 42, 'Toy Story 3': 11, 'Braveheart': 10, 'To Kill a Mockingbird': 21, 'Requiem for a Dream': 19, 'Lawrence of Arabia': 18, 'A Clockwork Orange': 18, 'Bicycle Thieves': 15, 'The Kid': 7, 'Swades': 6, 'Reservoir Dogs': 14, 'Eternal Sunshine of the Spotless Mind': 37, 'Taxi Driver': 11, 'Dilwale Dulhania Le Jayenge': 27, \"Singin' in the Rain\": 19, 'All About Eve': 13, 'Yojimbo': 7, 'The Sting': 9, 'Rashomon': 8, 'Amadeus': 7, 'The Treasure of the Sierra Madre': 32, 'Monty Python and the Holy Grail': 31, 'Full Metal Jacket': 17, 'The Apartment': 13, 'Ikiru': 5, 'The Third Man': 13, 'Snatch.': 7, 'For a Few Dollars More': 22, 'Metropolis': 10, 'Dil Chahta Hai': 14, '2001: A Space Odyssey': 21, 'Some Like It Hot': 16, 'L.A. Confidential': 17, 'Batman Begins': 13, 'Inglourious Basterds': 20, 'Scarface': 8, 'Mr. Smith Goes to Washington': 28, 'Toy Story': 9, 'Indiana Jones and the Last Crusade': 34, 'Unforgiven': 10, 'The Great Escape': 16, 'Jagten': 6, 'On the Waterfront': 17, 'The General': 11, 'Raging Bull': 11, 'Downfall': 8, 'Up': 2, 'Wild Strawberries': 17, 'The Gold Rush': 13, 'Ran': 3, 'Chinatown': 9, 'My Neighbor Totoro': 18, 'Judgment at Nuremberg': 21, 'Barfi!': 6, 'The Seventh Seal': 16, 'Heat': 4, \"Pan's Labyrinth\": 15, 'The Bridge on the River Kwai': 28, 'Die Hard': 8, 'Good Will Hunting': 17, 'The Wages of Fear': 17, 'The Secret in Their Eyes': 24, 'Lagaan: Once Upon a Time in India': 33, 'The Wolf of Wall Street': 23, 'It Happened One Night': 21, 'Blade Runner': 12, 'Warrior': 7, \"Howl's Moving Castle\": 20, 'The Elephant Man': 16, 'Rebecca': 7, 'Incendies': 9, 'Lock, Stock and Two Smoking Barrels': 35, 'V for Vendetta': 14, 'The Big Lebowski': 16, 'Cool Hand Luke': 14, 'Relatos salvajes': 16, 'Casino': 6, 'Gone with the Wind': 18, 'Gone Girl': 9, 'The Best Years of Our Lives': 27, 'How to Train Your Dragon': 24, 'Diabolique': 10, 'Gran Torino': 11, 'Rush': 4, 'Into the Wild': 13, 'My Sassy Girl': 13, 'The Deer Hunter': 15, 'Mary and Max': 12, \"Hachi: A Dog's Tale\": 19, 'The Maltese Falcon': 18, 'A Beautiful Mind': 16, 'Dial M for Murder': 17, 'Trainspotting': 13, 'Tae Guk Gi: The Brotherhood of War': 34, 'Persona': 7, 'Touch of Evil': 13, 'Fargo': 5, 'The Avengers': 12, 'The 400 Blows': 13, 'The Princess Bride': 18, 'Hotel Rwanda': 12, 'Stalker': 7, 'The Battle of Algiers': 21, 'Underground': 11, 'Fanny and Alexander': 19, 'Network': 7, 'The Thing': 9, 'Butch Cassidy and the Sundance Kid': 34, 'The Grapes of Wrath': 19, 'Black Cat, White Cat': 20, 'Life of Brian': 13, 'The Sixth Sense': 15, 'Finding Nemo': 12, 'Nausicaa of the Valley of the Wind': 34, 'Kingsman: The Secret Service': 28, 'Platoon': 7, 'Guardians of the Galaxy': 23, 'In the Name of the Father': 25, 'Kill Bill: Vol. 1': 17, 'No Country for Old Men': 22, 'Le Samourai': 11, '12 Years a Slave': 16, \"La leggenda del pianista sull'oceano\": 36, '8 1/2': 5, 'Ben-Hur': 7, 'Amores Perros': 13, 'Stand by Me': 11, 'What Ever Happened to Baby Jane?': 32, 'Annie Hall': 10, 'The Imitation Game': 18, 'Laura': 5, 'Departures': 10, 'Infernal Affairs': 16, 'There Will Be Blood': 19, 'The Grand Budapest Hotel': 24, 'La Strada': 9, 'Sin City': 8, 'Memories of Murder': 18, 'Donnie Darko': 12, \"Who's Afraid of Virginia Woolf?\": 31, 'Gandhi': 6, 'Solaris': 7, 'Harry Potter and the Deathly Hallows: Part 2': 44, 'Paris, Texas': 12, 'The Wizard of Oz': 16, '3-Iron': 6, 'Boyhood': 7, 'Million Dollar Baby': 19, 'The Last Picture Show': 21, 'Strangers on a Train': 20, 'Cat on a Hot Tin Roof': 21, 'La Dolce Vita': 13, 'Chungking Express': 17, 'The Night of the Hunter': 23, 'La Haine': 8, 'Yip Man': 7, 'High Noon': 9, 'Notorious': 9, 'Before Sunrise': 14, 'Elite Squad: The Enemy Within': 29, 'The Bourne Ultimatum': 20, 'Castle in the Sky': 17, 'The Celebration': 15, 'Spring, Summer, Fall, Winter... and Spring': 42, 'Shutter Island': 14, 'Barry Lyndon': 12, 'Stalag 17': 9, 'Three Colors: Red': 17, 'X-Men: Days of Future Past': 26, 'Sleuth': 6, 'In the Mood for Love': 20, 'The Man Who Shot Liberty Valance': 32, 'Arsenic and Old Lace': 20, 'The Big Sleep': 13, 'Roman Holiday': 13, 'The Philadelphia Story': 22, 'Akira': 5, 'Anatomy of a Murder': 19, 'The Cabinet of Dr. Caligari': 27, 'The Help': 8, 'The Sea Inside': 14, 'Elite Squad': 11, 'The Hustler': 11, 'Rio Bravo': 9, 'Twelve Monkeys': 14, 'Harvey': 6, 'A Christmas Story': 17, 'Jaws': 4, 'The Raid 2': 10, 'Rocky': 5, 'Wings of Desire': 15, 'Pirates of the Caribbean: The Curse of the Black Pearl': 54, 'The Killing': 11, 'Papillon': 8, \"The King's Speech\": 17, 'Groundhog Day': 13, 'A Fistful of Dollars': 20, 'Monsters, Inc.': 14, 'Dog Day Afternoon': 17, 'The Perks of Being a Wallflower': 31, 'Young Frankenstein': 18, 'The Terminator': 14, 'Harold and Maude': 16, 'Before Sunset': 13, 'A Streetcar Named Desire': 24, 'Bringing Up Baby': 16, 'The Diving Bell and the Butterfly': 33, 'His Girl Friday': 15, 'Sling Blade': 11, 'All Quiet on the Western Front': 30, 'Prisoners': 9, 'The Return': 10, 'The Manchurian Candidate': 24, 'Duck Soup': 9, 'Beauty and the Beast': 20, 'The Truman Show': 15, 'The Wild Bunch': 14, 'Rope': 4, 'The Graduate': 12, 'Jurassic Park': 13, 'Dogville': 8, 'Furious 7': 9, 'Patton': 6, 'The Nightmare Before Christmas': 30, 'Being There': 11, 'Persepolis': 10, 'This Is Spinal Tap': 18, 'East of Eden': 12, 'Pink Floyd The Wall': 19, 'Blood Diamond': 13, 'Big Fish': 8, 'Slumdog Millionaire': 19, 'Star Trek': 9, 'The Straight Story': 18, 'Crimes and Misdemeanors': 23, 'Charade': 7, 'JFK': 3, 'Dawn of the Dead': 16, 'Magnolia': 8, 'Manhattan': 9, 'Central Station': 15, 'Brazil': 6, 'The Exorcist': 12, 'Her': 3, 'Dancer in the Dark': 18, 'Rain Man': 8, 'Talk to Her': 11, 'The Adventures of Robin Hood': 28, 'Aguirre, the Wrath of God': 25, 'In the Heat of the Night': 24, 'Nosferatu': 9, 'Black Swan': 10, 'Ratatouille': 11, 'The Searchers': 13, 'Short Term 12': 13, 'Doctor Zhivago': 14, 'Life of Pi': 10, \"All the President's Men\": 23, 'Battleship Potemkin': 19, 'Dances with Wolves': 18, 'Catch Me If You Can': 19, 'Cinderella Man': 14, 'Dead Poets Society': 18, 'Ghost in the Shell': 18, 'Head-On': 7, \"No Man's Land\": 13, 'Dallas Buyers Club': 18, 'Days of Heaven': 14, 'The Sound of Music': 18, 'District 9': 10, 'Shadow of a Doubt': 17, 'Frankenstein': 12, 'Shaun of the Dead': 17, 'Night of the Living Dead': 24, 'Kill Bill: Vol. 2': 17, 'Secrets & Lies': 14, 'The Artist': 10, 'Aladdin': 7, 'The Lady Vanishes': 17, 'The Hobbit: The Desolation of Smaug': 35, 'Let the Right One In': 20, 'Fiddler on the Roof': 19, 'The Hobbit: An Unexpected Journey': 33, 'Three Colors: Blue': 18, \"Rosemary's Baby\": 15, 'Mystic River': 12, 'Serenity': 8, 'Amarcord': 8, 'Planet of the Apes': 18, 'True Romance': 12, 'Hannah and Her Sisters': 22, 'Moon': 4, 'Before Midnight': 15, 'My Name Is Khan': 15, 'Scent of a Woman': 16, 'Mulholland Dr.': 14, 'King Kong': 9, 'The Fault in Our Stars': 22, 'The Incredibles': 15, 'Edward Scissorhands': 19, 'Casino Royale': 13, 'How to Train Your Dragon 2': 26, 'In Bruges': 9, 'The Untouchables': 16, 'Breathless': 10, 'Spartacus': 9, 'The Iron Giant': 14, 'Midnight Cowboy': 15, 'The Blues Brothers': 18, 'Freaks': 6, 'Letters from Iwo Jima': 21, 'Edge of Tomorrow': 16, 'Glory': 5, 'The African Queen': 17, 'Birdman: Or (The Unexpected Virtue of Ignorance)': 48, 'Big Hero 6': 10, 'Almost Famous': 13, 'The Notebook': 12, 'The Conversation': 16, 'The Breakfast Club': 18, 'The Pursuit of Happyness': 24, 'The Killer': 10, 'Once': 4, 'Ying xiong': 10, 'The Remains of the Day': 22, 'The Bride of Frankenstein': 25, 'The Wrestler': 12, 'Nightcrawler': 12, 'Gravity': 7, 'Hard Boiled': 11, 'Bonnie and Clyde': 16, 'The Bourne Identity': 19, 'Key Largo': 9, 'Nine Queens': 11, 'Toy Story 2': 11, 'The Killing Fields': 18, 'All About My Mother': 19, 'Cowboy Bebop: The Movie': 23, 'Ed Wood': 7, 'Stagecoach': 10, 'The Man Who Would Be King': 25, 'The Outlaw Josey Wales': 22, 'Children of Men': 15, 'The Insider': 11, 'The Right Stuff': 15, 'Badlands': 8, 'A Prophet': 9, '4 Months, 3 Weeks and 2 Days': 28, 'Le passe': 8, 'The Fall': 8, 'Breaking the Waves': 18, 'Mr. Nobody': 10, 'Crash': 5, 'Avatar': 6, 'Iron Man': 8, 'Do the Right Thing': 18, \"Carlito's Way\": 13, 'Crouching Tiger, Hidden Dragon': 30, 'Lilya 4-Ever': 12, 'The Chorus': 10, 'The Boondock Saints': 19, \"Miller's Crossing\": 17, 'Walk the Line': 13, 'Shrek': 5, 'My Fair Lady': 12, 'The Ten Commandments': 20, 'The Fighter': 11, 'Captain Phillips': 16, 'Cabaret': 7, 'Halloween': 9, 'My Left Foot': 12, 'Miracle on 34th Street': 22, 'The Man from Nowhere': 20, 'Toki o kakeru shojo': 19, 'Little Miss Sunshine': 20, 'Taken': 5, 'Blue Is the Warmest Color': 25, 'Boogie Nights': 13, 'Hot Fuzz': 8, \"Ferris Bueller's Day Off\": 24, \"The World's Fastest Indian\": 26, \"Kiki's Delivery Service\": 23, 'Down by Law': 11, 'Glengarry Glen Ross': 19, 'Clerks': 6, \"Adam's Apples\": 13, 'The Girl with the Dragon Tattoo': 31, 'The 39 Steps': 12, 'E.T. the Extra-Terrestrial': 26, 'Tombstone': 9, 'Predator': 8, 'Tangled': 7, \"Guess Who's Coming to Dinner\": 28, 'Ordinary People': 15, 'The Best Offer': 14, 'Silver Linings Playbook': 23, 'Hamlet': 6, 'Amour': 5, 'I Saw the Devil': 15, 'The Motorcycle Diaries': 22, 'Office Space': 12, 'Evil': 4, 'Withnail & I': 12, 'The Day the Earth Stood Still': 29, 'Black Book': 10, 'Evil Dead II': 12, 'Kaze tachinu': 12, 'Star Trek Into Darkness': 23, 'The Triplets of Belleville': 26, 'Open Your Eyes': 14, 'The Magnificent Seven': 21, 'Drive': 5, 'Mississippi Burning': 19, 'The Lego Movie': 14, 'The Day of the Jackal': 21, 'Misery': 6, 'Willy Wonka & the Chocolate Factory': 35, 'Fantasia': 8, 'Gattaca': 7, 'American Gangster': 17, 'Porco Rosso': 11, 'The French Connection': 21, 'The Boy in the Striped Pajamas': 30, 'Empire of the Sun': 17, 'About Time': 10, 'Blue Velvet': 11, 'In America': 10, 'The Curious Case of Benjamin Button': 35, 'The Last of the Mohicans': 24, 'Moonrise Kingdom': 16, 'Rebel Without a Cause': 21, 'Fantastic Mr. Fox': 17, 'Invasion of the Body Snatchers': 30, 'October Sky': 11, 'Dirty Harry': 11, 'Ghostbusters': 12, 'Captain America: The Winter Soldier': 35, 'Wreck-It Ralph': 14, 'The Hangover': 12, 'Back to the Future Part II': 26, 'Belle de Jour': 13, 'O Brother, Where Art Thou?': 26, 'Repulsion': 9, 'Airplane!': 9, 'Pride & Prejudice': 17, 'Zulu': 4, 'Night on Earth': 14, 'From Here to Eternity': 21, 'Apocalypto': 10, 'Atonement': 9, 'The Dirty Dozen': 15, 'X-Men: First Class': 18, 'Run Lola Run': 12, 'The Longest Day': 15, 'Zelig': 5, 'The Last Emperor': 16, 'The Goonies': 11, 'The White Ribbon': 16, 'The Fugitive': 12, 'The Color Purple': 16, 'South Park: Bigger Longer & Uncut': 33, '(500) Days of Summer': 20, 'Lost in Translation': 19, 'Argo': 4, 'Blazing Saddles': 15, \"Breakfast at Tiffany's\": 22, 'Finding Neverland': 17, 'The Experiment': 14, 'Lucky Number Slevin': 19, 'The Theory of Everything': 24, 'Harry Potter and the Prisoner of Azkaban': 40, 'Kung Fu Hustle': 14, 'Being John Malkovich': 20, 'The Social Network': 18, '3:10 to Yuma': 12, 'The Name of the Rose': 20, 'Mary Poppins': 12, 'The Game': 8, 'Changeling': 10, 'Donnie Brasco': 13, 'Serpico': 7, \"What's Eating Gilbert Grape\": 27, 'Goldfinger': 10, 'Nebraska': 8, 'The Sandlot': 11, 'Boyz n the Hood': 15, 'The Bourne Supremacy': 20, 'Skyfall': 7, 'Ray': 3, '300': 3, 'A Bronx Tale': 12, 'The Birds': 9, 'Battle Royale': 13, 'Control': 7, 'Kramer vs. Kramer': 17, 'Deliverance': 11, \"Ocean's Eleven\": 14, 'As Good as It Gets': 18, 'Awakenings': 10, 'The King of Comedy': 18, 'Man on Fire': 11, 'Sabrina': 7, 'Dark City': 9, 'Good Bye Lenin!': 15, 'Remember the Titans': 19, 'Star Trek II: The Wrath of Khan': 31, 'Road to Perdition': 17, 'Rushmore': 8, 'The Machinist': 13, 'Flipped': 7, 'The Count of Monte Cristo': 25, 'Detachment': 10, 'Love Me If You Dare': 19, 'Dead Man': 8, 'The Purple Rose of Cairo': 24, '21 Grams': 8, '50/50': 5, 'Kick-Ass': 8, 'Delicatessen': 12, 'Barton Fink': 11, 'The Last King of Scotland': 25, 'Adaptation.': 11, 'A Very Long Engagement': 22, 'Mysterious Skin': 15, 'Stardust': 8, 'Black Hawk Down': 15, 'Paprika': 7, 'Fear and Loathing in Las Vegas': 30, 'Frost/Nixon': 11, 'Enter the Dragon': 16, 'Short Cuts': 10, \"A Hard Day's Night\": 18, 'The Last Samurai': 16, 'The Station Agent': 17, 'Zombieland': 10, 'Sympathy for Mr. Vengeance': 26, 'Despicable Me': 13, 'Shane': 5, 'Forbidden Planet': 16, 'Titanic': 7, 'Gone Baby Gone': 14, 'The Dinner Game': 15, 'Dawn of the Planet of the Apes': 30, '25th Hour': 9, 'Ponyo': 5, 'Shine': 5, 'The Blind Side': 14, 'Brokeback Mountain': 18, 'Cast Away': 9, 'Malcolm X': 9, 'Show Me Love': 12, 'Boy A': 5, 'The Warriors': 12, 'Close Encounters of the Third Kind': 34, 'Match Point': 11, 'Training Day': 12, 'The Butterfly Effect': 20, 'The City of Lost Children': 25, 'Billy Elliot': 12, 'Love Actually': 13, 'The Producers': 13, 'Harry Potter and the Deathly Hallows: Part 1': 44, 'The Visitor': 11, 'Philadelphia': 12, 'Sense and Sensibility': 21, 'Three Colors: White': 19, 'La grande bellezza': 18, 'Primal Fear': 11, 'Where Eagles Dare': 17, 'Dazed and Confused': 18, 'Blood Simple.': 13, 'This Is England': 15, 'Fearless': 8, 'Dangerous Liaisons': 18, 'Saw': 3, 'Snow White and the Seven Dwarfs': 31, 'Coraline': 8, 'The Hunger Games: Catching Fire': 31, \"Sophie's Choice\": 15, 'La Vie en Rose': 14, 'Star Wars: Episode III - Revenge of the Sith': 44, 'True Grit': 9, 'After Hours': 11, 'Frozen': 6, 'Lolita': 6, 'Eastern Promises': 16, 'Midnight in Paris': 17, 'The Muppet Christmas Carol': 26, 'Who Framed Roger Rabbit': 23, 'Sympathy for Lady Vengeance': 27, 'Grindhouse': 10, 'In a Better World': 17, 'Blow-Up': 7, 'The Secret World of Arrietty': 28, 'Kiss Kiss Bang Bang': 19, 'Lost Highway': 12, 'Zodiac': 6, 'Les Miserables': 14, 'Moulin Rouge!': 13, 'Whale Rider': 11, 'End of Watch': 12, 'Philomena': 9, 'Fury': 4, 'The Big Blue': 12, 'First Blood': 11, 'Minority Report': 15, 'Spellbound': 10, 'The Wicker Man': 14, 'Seven Pounds': 12, 'Midnight Express': 16, \"Kelly's Heroes\": 14, 'MASH': 4, 'The Player': 10, 'Traffic': 7, 'Y Tu Mama Tambien': 17, 'Stranger Than Fiction': 21, 'Inside Man': 10, '127 Hours': 9, 'The Fifth Element': 17, 'Milk': 4, 'United 93': 9, 'Jin ling shi san chai': 21, 'Dracula': 7, 'High Plains Drifter': 19, 'I Am Sam': 8, 'Fried Green Tomatoes': 20, 'Watchmen': 8, '28 Days Later...': 16, 'The Illusionist': 15, 'Superbad': 8, 'The Godfather: Part III': 23, 'The Royal Tenenbaums': 20, 'The Jungle Book': 15, 'Thank You for Smoking': 21, 'Man Bites Dog': 13, 'A Few Good Men': 14, 'The Legend of Drunken Master': 28, 'The Kite Runner': 15, 'When Harry Met Sally...': 23, 'Munich': 6, 'House of Sand and Fog': 21, 'Lethal Weapon': 13, 'Animal House': 12, 'Lord of War': 11, 'Blow': 4, 'Sherlock Holmes': 15, 'Harry Potter and the Goblet of Fire': 35, 'La piel que habito': 18, 'The Crow': 8, 'West Side Story': 15, 'The Thin Red Line': 17, 'American Psycho': 15, 'The Blind Swordsman: Zatoichi': 29, 'The Last Temptation of Christ': 29, 'The Naked Gun: From the Files of Police Squad!': 46, 'The Others': 10, 'The Party': 9, 'Army of Darkness': 16, 'The Hurt Locker': 15, 'The Raid: Redemption': 20, 'Volver': 6, 'Following': 9, 'Kung Fu Panda': 13, 'Mad Max 2: The Road Warrior': 27, 'Jusan-nin no shikaku': 20, \"The Man Who Wasn't There\": 24, 'The Counterfeiters': 18, 'The Hunt for Red October': 24, 'Lone Survivor': 13, 'A Fish Called Wanda': 19, 'The Impossible': 14, 'Garden State': 12, 'Escape from Alcatraz': 20, 'Apollo 13': 9, 'Lust, Caution': 13, 'Selma': 5, 'Funny Games': 11, 'The Abyss': 9, 'Robin Hood': 10, 'Enemy at the Gates': 18, 'Falling Down': 12, 'Little Children': 15, 'Hunger': 6, 'Indiana Jones and the Temple of Doom': 36, 'Ip Man 2': 8, 'The Little Mermaid': 18, \"It's a Mad, Mad, Mad, Mad World\": 31, 'The Reader': 10, 'The Omen': 8, 'A Royal Affair': 14, 'Braindead': 9, 'Secondhand Lions': 16, 'Disconnect': 10, 'A Single Man': 12, 'Hoosiers': 8, 'Moneyball': 9, 'The Book Thief': 14, 'Die Hard: With a Vengeance': 26, 'Interview with the Vampire: The Vampire Chronicles': 50, 'Midnight Run': 12, 'An American Werewolf in London': 30, 'The Great Debaters': 18, 'Tucker and Dale vs. Evil': 24, 'Dead Man Walking': 16, 'The Piano': 9, 'The Town': 8, 'Rise of the Planet of the Apes': 30, \"Boys Don't Cry\": 14, 'Ice Age': 7, 'Of Mice and Men': 15, 'Sideways': 8, 'High Fidelity': 13, 'The Meaning of Life': 19, 'Hugo': 4, 'Leaving Las Vegas': 17, 'The Evil Dead': 13, 'Collateral': 10, 'Planes, Trains & Automobiles': 28, 'Hodejegerne': 11, 'Field of Dreams': 15, 'Batman': 6, 'Tell No One': 11, 'Ghost Dog: The Way of the Samurai': 33, 'Chaplin': 7, 'Keith': 5, 'Juno': 4, 'The Assassination of Jesse James by the Coward Robert Ford': 58, 'The Fisher King': 15, 'House of Flying Daggers': 23, 'The Hours': 9, 'The Damned United': 17, 'Star Trek: First Contact': 24, 'The Natural': 11, 'The Hobbit: The Battle of the Five Armies': 41, 'Equilibrium': 11, 'August Rush': 11, 'Saving Mr. Banks': 16, 'The Hurricane': 13, \"Jacob's Ladder\": 14, 'The Curse of the Were-Rabbit': 28, 'Christmas Vacation': 18, 'Good Night, and Good Luck.': 26, 'Straw Dogs': 10, '42': 2, 'Rudy': 4, 'Sleepers': 8, 'The Wind That Shakes the Barley': 31, 'Gangs of New York': 17, 'Elizabeth': 9, 'Green Street Hooligans': 22, 'Reign Over Me': 13, 'RoboCop': 7, 'The Life of David Gale': 22, 'Life as a House': 15, 'Despicable Me 2': 15, 'Jackie Brown': 12, 'Menace II Society': 17, 'The Class': 9, 'Bullets Over Broadway': 21, 'American Splendor': 17, 'Perfume: The Story of a Murderer': 32, 'Cloud Atlas': 11, 'Marathon Man': 12, 'Pinocchio': 9, 'The Painted Veil': 16, 'A Simple Plan': 13, 'The Conjuring': 13, 'The Man Who Knew Too Much': 25, 'Quiz Show': 9, 'American Graffiti': 17, 'The Bridges of Madison County': 29, 'Gallipoli': 9, \"L'illusionniste\": 15, 'Miracle': 7, 'Maria Full of Grace': 19, 'Scott Pilgrim vs. the World': 27, 'Pleasantville': 13, 'Sherlock Holmes: A Game of Shadows': 34, 'Doubt': 5, 'The Fly': 7, 'The Orphanage': 13, 'Malena': 6, 'Three Days of the Condor': 24, '[Rec]': 5, 'A Perfect World': 15, 'To Catch a Thief': 16, 'Best in Show': 12, 'Everything Is Illuminated': 25, 'A Nightmare on Elm Street': 25, 'The Ice Storm': 13, 'X2': 2, 'We Need to Talk About Kevin': 27, 'Felon': 5, 'Still Alice': 11, 'Rust and Bone': 13, 'Freedom Writers': 15, 'Legends of the Fall': 19, \"Buffalo '66\": 11, 'The Constant Gardener': 21, 'My Cousin Vinny': 15, 'The Texas Chain Saw Massacre': 28, 'Mulan': 5, 'A History of Violence': 21, 'Open Range': 10, 'Total Recall': 12, 'Pi': 2, \"The Devil's Backbone\": 20, 'The Aviator': 11, \"Devil's Advocate\": 16, 'The Adventures of Priscilla, Queen of the Desert': 48, 'Harry Potter and the Half-Blood Prince': 38, 'Fruitvale Station': 17, 'In the Bedroom': 14, 'Source Code': 11, 'Biutiful': 8, 'From Russia with Love': 21, 'Calvary': 7, 'The Mission': 11, 'In the Loop': 11, 'The Three Burials of Melquiades Estrada': 39, 'Babel': 5, 'Frenzy': 6, 'Heavenly Creatures': 18, 'Sweeney Todd: The Demon Barber of Fleet Street': 46, 'Looper': 6, 'The Proposition': 15, 'Bullitt': 7, \"Harry Potter and the Sorcerer's Stone\": 37, '2046': 4, 'Transamerica': 12, 'Smoke': 5, 'Suspiria': 8, 'The Judge': 9, 'Bad Education': 13, 'Up in the Air': 13, 'Begin Again': 11, 'Running Scared': 14, 'Ghost World': 11, 'Witness': 7, 'Trading Places': 14, 'Mud': 3, 'Across the Universe': 19, 'Notes on a Scandal': 18, 'Inside Llewyn Davis': 19, 'Brick': 5, 'Clerks II': 9, 'Say Anything...': 15, 'Man on the Moon': 15, 'Mean Streets': 12, 'Harry Potter and the Order of the Phoenix': 41, 'Beetlejuice': 11, 'Crazy, Stupid, Love.': 20, 'Excalibur': 9, 'Labyrinth': 9, 'Alice in Wonderland': 19, 'Predestination': 14, 'Much Ado About Nothing': 22, 'A Bridge Too Far': 16, 'Raising Arizona': 15, 'The Bucket List': 15, 'Terms of Endearment': 19, 'Take Shelter': 12, 'Far from Heaven': 15, 'Eraserhead': 10, 'Frances Ha': 10, 'Home Alone': 10, 'Bound': 5, 'Sleepy Hollow': 13, 'Pirate Radio': 12, 'The NeverEnding Story': 21, 'X-Men': 5, 'Zero Dark Thirty': 16, 'Manhattan Murder Mystery': 24, \"National Lampoon's Vacation\": 27, \"My Sister's Keeper\": 18, 'Deconstructing Harry': 20, 'The Way Way Back': 16, 'Capote': 6, 'Driving Miss Daisy': 18, 'La Femme Nikita': 15, 'Lincoln': 7, 'Limitless': 9, 'The Simpsons Movie': 18, 'The Rock': 8, 'The English Patient': 19, 'Law Abiding Citizen': 19, 'Wonder Boys': 11, 'Death at a Funeral': 18, 'Blue Valentine': 14, 'The Cider House Rules': 21, 'Tootsie': 7, 'Back to the Future Part III': 27, 'Master and Commander: The Far Side of the World': 47, 'Poltergeist': 11, 'Wall Street': 11}\n",
      "[24, 13, 22, 15, 12, 12, 30, 45, 16, 10, 49, 9, 46, 12, 37, 12, 31, 13, 10, 9, 10, 11, 21, 18, 5, 17, 28, 24, 22, 11, 13, 16, 10, 8, 18, 12, 19, 23, 11, 6, 14, 12, 11, 21, 9, 26, 7, 16, 68, 12, 15, 14, 18, 12, 18, 13, 19, 5, 14, 16, 8, 22, 11, 1, 6, 27, 19, 15, 8, 17, 6, 18, 15, 23, 12, 6, 7, 8, 27, 16, 42, 11, 10, 21, 19, 18, 18, 15, 7, 6, 14, 37, 11, 27, 19, 13, 7, 9, 8, 7, 32, 31, 17, 13, 5, 13, 7, 22, 10, 14, 21, 16, 17, 13, 20, 8, 28, 9, 34, 10, 16, 6, 17, 11, 11, 8, 2, 17, 13, 3, 9, 18, 21, 6, 16, 4, 15, 28, 8, 17, 17, 24, 33, 23, 21, 12, 7, 20, 16, 7, 9, 35, 14, 16, 14, 16, 6, 18, 9, 27, 24, 10, 11, 4, 13, 13, 15, 12, 19, 18, 16, 17, 13, 34, 7, 13, 5, 12, 13, 18, 12, 7, 21, 11, 19, 7, 9, 34, 19, 20, 13, 15, 12, 34, 28, 7, 23, 25, 17, 22, 11, 16, 36, 5, 7, 13, 11, 32, 10, 18, 5, 10, 16, 19, 24, 9, 8, 18, 12, 31, 6, 7, 44, 12, 16, 6, 7, 19, 21, 20, 21, 13, 17, 23, 8, 7, 9, 9, 14, 29, 20, 17, 15, 42, 14, 12, 9, 17, 26, 6, 20, 32, 20, 13, 13, 22, 5, 19, 27, 8, 14, 11, 11, 9, 14, 6, 17, 4, 10, 5, 15, 54, 11, 8, 17, 13, 20, 14, 17, 31, 18, 14, 16, 13, 24, 16, 33, 15, 11, 30, 9, 10, 24, 9, 20, 15, 14, 4, 12, 13, 8, 9, 6, 30, 11, 10, 18, 12, 19, 13, 8, 19, 9, 18, 23, 7, 3, 16, 8, 9, 15, 6, 12, 3, 18, 8, 11, 28, 25, 24, 9, 10, 11, 13, 13, 14, 10, 23, 19, 18, 19, 14, 18, 18, 7, 13, 18, 14, 18, 10, 17, 12, 17, 24, 17, 14, 10, 7, 17, 35, 20, 19, 33, 18, 15, 12, 8, 8, 18, 12, 22, 4, 15, 15, 16, 14, 9, 22, 15, 19, 13, 26, 9, 16, 10, 9, 14, 15, 18, 6, 21, 16, 5, 17, 48, 10, 13, 12, 16, 18, 24, 10, 4, 10, 22, 25, 12, 12, 7, 11, 16, 19, 9, 11, 11, 18, 19, 23, 7, 10, 25, 22, 15, 11, 15, 8, 9, 28, 8, 8, 18, 10, 5, 6, 8, 18, 13, 30, 12, 10, 19, 17, 13, 5, 12, 20, 11, 16, 7, 9, 12, 22, 20, 19, 20, 5, 25, 13, 8, 24, 26, 23, 11, 19, 6, 13, 31, 12, 26, 9, 8, 7, 28, 15, 14, 23, 6, 5, 15, 22, 12, 4, 12, 29, 10, 12, 12, 23, 26, 14, 21, 5, 19, 14, 21, 6, 35, 8, 7, 17, 11, 21, 30, 17, 10, 11, 10, 35, 24, 16, 21, 17, 30, 11, 11, 12, 35, 14, 12, 26, 13, 26, 9, 9, 17, 4, 14, 21, 10, 9, 15, 18, 12, 15, 5, 16, 11, 16, 12, 16, 33, 20, 19, 4, 15, 22, 17, 14, 19, 24, 40, 14, 20, 18, 12, 20, 12, 8, 10, 13, 7, 27, 10, 8, 11, 15, 20, 7, 3, 3, 12, 9, 13, 7, 17, 11, 14, 18, 10, 18, 11, 7, 9, 15, 19, 31, 17, 8, 13, 7, 25, 10, 19, 8, 24, 8, 5, 8, 12, 11, 25, 11, 22, 15, 8, 15, 7, 30, 11, 16, 10, 18, 16, 17, 10, 26, 13, 5, 16, 7, 14, 15, 30, 9, 5, 5, 14, 18, 9, 9, 12, 5, 12, 34, 11, 12, 20, 25, 12, 13, 13, 44, 11, 12, 21, 19, 18, 11, 17, 18, 13, 15, 8, 18, 3, 31, 8, 31, 15, 14, 44, 9, 11, 6, 6, 16, 17, 26, 23, 27, 10, 17, 7, 28, 19, 12, 6, 14, 13, 11, 12, 9, 4, 12, 11, 15, 10, 14, 12, 16, 14, 4, 10, 7, 17, 21, 10, 9, 17, 4, 9, 21, 7, 19, 8, 20, 8, 16, 15, 8, 23, 20, 15, 21, 13, 14, 28, 15, 23, 6, 21, 13, 12, 11, 4, 15, 35, 18, 8, 15, 17, 15, 29, 29, 46, 10, 9, 16, 15, 20, 6, 9, 13, 27, 20, 24, 18, 24, 13, 19, 14, 12, 20, 9, 13, 5, 11, 9, 10, 18, 12, 15, 6, 36, 8, 18, 31, 10, 8, 14, 9, 16, 10, 12, 8, 9, 14, 26, 50, 12, 30, 18, 24, 16, 9, 8, 30, 14, 7, 15, 8, 13, 19, 4, 17, 13, 10, 28, 11, 15, 6, 11, 33, 7, 5, 4, 58, 15, 23, 9, 17, 24, 11, 41, 11, 11, 16, 13, 14, 28, 18, 26, 10, 2, 4, 8, 31, 17, 9, 22, 13, 7, 22, 15, 15, 12, 17, 9, 21, 17, 32, 11, 12, 9, 16, 13, 13, 25, 9, 17, 29, 9, 15, 7, 19, 27, 13, 34, 5, 7, 13, 6, 24, 5, 15, 16, 12, 25, 25, 13, 2, 27, 5, 11, 13, 15, 19, 11, 21, 15, 28, 5, 21, 10, 12, 2, 20, 11, 16, 48, 38, 17, 14, 11, 8, 21, 7, 11, 11, 39, 5, 6, 18, 46, 6, 15, 7, 37, 4, 12, 5, 8, 9, 13, 13, 11, 14, 11, 7, 14, 3, 19, 18, 19, 5, 9, 15, 15, 12, 41, 11, 20, 9, 9, 19, 14, 22, 16, 15, 15, 19, 12, 15, 10, 10, 10, 5, 13, 12, 21, 5, 16, 24, 27, 18, 20, 16, 6, 18, 15, 7, 9, 18, 8, 19, 19, 11, 18, 14, 21, 7, 27, 47, 11, 11]\n",
      "Media: 15.482051282051282\n",
      "Mediana: 14.0\n",
      "moda: 12\n",
      "Rango: 67\n",
      "varianza: 72.03638182488285\n",
      "desviacion estandar: 8.487424923077839\n",
      "asimetria: 1.5262860924411175\n",
      "curtosis: 3.8143987886506485\n",
      "el titulo mas largo es: Dr. Strangelove or: How I Learned to Stop Worrying and Love the Bomb\n",
      "el titulo mas corto es: M\n"
     ]
    },
    {
     "data": {
      "image/png": "[encoded data removed]",
      "text/plain": [
       "<Figure size 640x480 with 1 Axes>"
      ]
     },
     "metadata": {},
     "output_type": "display_data"
    },
    {
     "data": {
      "text/plain": [
       "[<matplotlib.lines.Line2D at 0x75c00c84ff50>]"
      ]
     },
     "execution_count": 2,
     "metadata": {},
     "output_type": "execute_result"
    },
    {
     "data": {
      "image/png": "[encoded data removed]",
      "text/plain": [
       "<Figure size 640x480 with 1 Axes>"
      ]
     },
     "metadata": {},
     "output_type": "display_data"
    }
   ],
   "source": [
    "# Importar librerias\n",
    "import pandas as pd\n",
    "import statistics as stats\n",
    "import numpy as np\n",
    "import matplotlib.pyplot as plt\n",
    "from scipy.stats import gaussian_kde\n",
    "\n",
    "from scipy.stats import skew, kurtosis, mode\n",
    "\n",
    "# Cargar dataset de IMDb\n",
    "url = \"../assets/imdb_1000.csv\"\n",
    "df = pd.read_csv(url)\n",
    "print(df)\n",
    "#PARTE 1\n",
    "#primero vamos a hacer un diccionario para guardar el largo de el n ombre de cada pelicula\n",
    "dict_nombres={}\n",
    "for i in df[\"title\"]:\n",
    "    dict_nombres[i]=len(i)\n",
    "print (dict_nombres)\n",
    "#PARTE 2\n",
    "#Obtener media de los largos de los titulos de las peliculas:\n",
    "#genero una lista con todos los largos \n",
    "lista_largos=[]\n",
    "\n",
    "for i in dict_nombres:\n",
    "    lista_largos.append(dict_nombres[i])\n",
    "print(lista_largos)\n",
    "media=np.mean(lista_largos)\n",
    "print (\"Media: \"+str(media))\n",
    "#MEDIANA\n",
    "mediana=np.median(lista_largos)\n",
    "print (\"Mediana: \"+str(mediana))\n",
    "#MODA \n",
    "moda=stats.mode(lista_largos)\n",
    "print(\"moda: \"+str(moda))\n",
    "#RANGO\n",
    "rango=max(lista_largos)-min(lista_largos)\n",
    "print(\"Rango: \"+str(rango))\n",
    "#VARIANZA\n",
    "varianza=stats.variance(lista_largos)\n",
    "print (\"varianza: \"+str(varianza))\n",
    "#DESVIACION ESTANDAR \n",
    "desviacion_estandar=stats.stdev(lista_largos)\n",
    "print(\"desviacion estandar: \"+str(desviacion_estandar))\n",
    "#ASIMETRIA\n",
    "asimetria=skew(lista_largos)\n",
    "print(\"asimetria: \"+str(asimetria))\n",
    "#CURTOSIS\n",
    "curtosis=kurtosis(lista_largos)\n",
    "print(\"curtosis: \"+str(curtosis))\n",
    "#PARTE 3\n",
    "#identificar los titulos mas largosd y mas cortos\n",
    "titulo_largo=np.where(np.array(lista_largos)==max(lista_largos))[0].tolist()\n",
    "titulo_largo=list(dict_nombres.keys())[titulo_largo[0]]\n",
    "\n",
    "titulo_corto=np.where(np.array(lista_largos)==min(lista_largos))[0].tolist()\n",
    "titulo_corto=list(dict_nombres.keys())[titulo_corto[0]]\n",
    "print(\"el titulo mas largo es: \"+titulo_largo)\n",
    "print(\"el titulo mas corto es: \"+titulo_corto)\n",
    "\n",
    "#hacer un histograma y una curva de densidad\n",
    "plt.hist(lista_largos,10)\n",
    "plt.show()\n",
    "x=np.linspace(min(lista_largos),max(lista_largos),975)\n",
    "\n",
    "densidad = gaussian_kde(lista_largos)\n",
    "plt.plot(x,densidad(x))"
   ]
  },
  {
   "cell_type": "code",
   "execution_count": 3,
   "id": "61d39304",
   "metadata": {},
   "outputs": [
    {
     "name": "stdout",
     "output_type": "stream",
     "text": [
      "     star_rating                                            title  \\\n",
      "0            9.3                         The Shawshank Redemption   \n",
      "1            9.2                                    The Godfather   \n",
      "2            9.1                           The Godfather: Part II   \n",
      "3            9.0                                  The Dark Knight   \n",
      "4            8.9                                     Pulp Fiction   \n",
      "..           ...                                              ...   \n",
      "974          7.4                                          Tootsie   \n",
      "975          7.4                      Back to the Future Part III   \n",
      "976          7.4  Master and Commander: The Far Side of the World   \n",
      "977          7.4                                      Poltergeist   \n",
      "978          7.4                                      Wall Street   \n",
      "\n",
      "    content_rating      genre  duration  \\\n",
      "0                R      Crime       142   \n",
      "1                R      Crime       175   \n",
      "2                R      Crime       200   \n",
      "3            PG-13     Action       152   \n",
      "4                R      Crime       154   \n",
      "..             ...        ...       ...   \n",
      "974             PG     Comedy       116   \n",
      "975             PG  Adventure       118   \n",
      "976          PG-13     Action       138   \n",
      "977             PG     Horror       114   \n",
      "978              R      Crime       126   \n",
      "\n",
      "                                           actors_list  title_length  \n",
      "0    [u'Tim Robbins', u'Morgan Freeman', u'Bob Gunt...            24  \n",
      "1      [u'Marlon Brando', u'Al Pacino', u'James Caan']            13  \n",
      "2    [u'Al Pacino', u'Robert De Niro', u'Robert Duv...            22  \n",
      "3    [u'Christian Bale', u'Heath Ledger', u'Aaron E...            15  \n",
      "4    [u'John Travolta', u'Uma Thurman', u'Samuel L....            12  \n",
      "..                                                 ...           ...  \n",
      "974  [u'Dustin Hoffman', u'Jessica Lange', u'Teri G...             7  \n",
      "975  [u'Michael J. Fox', u'Christopher Lloyd', u'Ma...            27  \n",
      "976  [u'Russell Crowe', u'Paul Bettany', u'Billy Bo...            47  \n",
      "977  [u'JoBeth Williams', u\"Heather O'Rourke\", u'Cr...            11  \n",
      "978  [u'Charlie Sheen', u'Michael Douglas', u'Tamar...            11  \n",
      "\n",
      "[979 rows x 7 columns]\n"
     ]
    }
   ],
   "source": [
    "# Crea una nueva columna llamada 'title_length' con la longitud (número de caracteres) de cada título\n",
    "list_nombres=[]\n",
    "for i in df[\"title\"]:\n",
    "    list_nombres.append(i)\n",
    "list_tamaño=[]\n",
    "for i in list_nombres:\n",
    "    list_tamaño.append(len(i))\n",
    "df[\"title_length\"]=list_tamaño\n",
    "print(df)"
   ]
  },
  {
   "cell_type": "code",
   "execution_count": 4,
   "id": "cae9c2e7",
   "metadata": {},
   "outputs": [
    {
     "name": "stdout",
     "output_type": "stream",
     "text": [
      "la media es: 15.481103166496425\n",
      "la mediana es: 14.0\n",
      "la moda es: 12\n"
     ]
    }
   ],
   "source": [
    "# Calcula media, mediana y moda de la columna 'title_length'\n",
    "#MEDIA:\n",
    "media2=np.mean(df['title_length'])\n",
    "print(\"la media es: \"+str(media2))\n",
    "#MEDIANA\n",
    "mediana2=np.median(df['title_length'])\n",
    "print(\"la mediana es: \"+str(mediana2))\n",
    "#MODA\n",
    "moda2=stats.mode(df['title_length'])\n",
    "print(\"la moda es: \"+str(moda2))\n"
   ]
  },
  {
   "cell_type": "code",
   "execution_count": 5,
   "id": "69664a9b",
   "metadata": {},
   "outputs": [
    {
     "name": "stdout",
     "output_type": "stream",
     "text": [
      "moda: 12\n",
      "Rango: 67\n",
      "varianza: 72.10674888402882\n",
      "desviacion estandar: 8.49156928276681\n"
     ]
    }
   ],
   "source": [
    "# Calcula el rango, la varianza y la desviación estándar de 'title_length'\n",
    "#RANGO\n",
    "#MODA \n",
    "moda=stats.mode(df['title_length'])\n",
    "print(\"moda: \"+str(moda))\n",
    "#RANGO\n",
    "rango=max(df['title_length'])-min(df['title_length'])\n",
    "print(\"Rango: \"+str(rango))\n",
    "#VARIANZA\n",
    "varianza=stats.variance(df['title_length'])\n",
    "print (\"varianza: \"+str(varianza))\n",
    "#DESVIACION ESTANDAR \n",
    "desviacion_estandar=stats.stdev(df['title_length'])\n",
    "print(\"desviacion estandar: \"+str(desviacion_estandar))\n",
    "\n",
    "\n",
    "\n",
    "\n"
   ]
  },
  {
   "cell_type": "code",
   "execution_count": 6,
   "id": "6b9a931c",
   "metadata": {},
   "outputs": [
    {
     "name": "stdout",
     "output_type": "stream",
     "text": [
      "asimetria: 1.5229143965677572\n",
      "curtosis: 3.7867237597626007\n"
     ]
    }
   ],
   "source": [
    "# Calcula asimetría y curtosis de la columna 'title_length'\n",
    "#ASIMETRIA\n",
    "asimetria=skew(df['title_length'])\n",
    "print(\"asimetria: \"+str(asimetria))\n",
    "#CURTOSIS\n",
    "curtosis=kurtosis(df['title_length'])\n",
    "print(\"curtosis: \"+str(curtosis))"
   ]
  },
  {
   "cell_type": "code",
   "execution_count": 7,
   "id": "c0d09e68",
   "metadata": {},
   "outputs": [
    {
     "name": "stdout",
     "output_type": "stream",
     "text": [
      "el titulo mas largo es: Dr. Strangelove or: How I Learned to Stop Worrying and Love the Bomb\n",
      "el titulo mas corto es: M\n"
     ]
    }
   ],
   "source": [
    "# Imprime el título más corto y el título más largo según su longitud\n",
    "#identificar los titulos mas largosd y mas cortos\n",
    "titulo_largo=np.where(np.array(lista_largos)==max(lista_largos))[0].tolist()\n",
    "titulo_largo=list(dict_nombres.keys())[titulo_largo[0]]\n",
    "\n",
    "titulo_corto=np.where(np.array(lista_largos)==min(lista_largos))[0].tolist()\n",
    "titulo_corto=list(dict_nombres.keys())[titulo_corto[0]]\n",
    "print(\"el titulo mas largo es: \"+titulo_largo)\n",
    "print(\"el titulo mas corto es: \"+titulo_corto)"
   ]
  },
  {
   "cell_type": "code",
   "execution_count": 13,
   "id": "e86a1ced",
   "metadata": {},
   "outputs": [
    {
     "data": {
      "image/png": "[encoded data removed]",
      "text/plain": [
       "<Figure size 640x480 with 1 Axes>"
      ]
     },
     "metadata": {},
     "output_type": "display_data"
    }
   ],
   "source": [
    "# grafica tus resultados\n",
    "plt.hist(lista_largos,10)\n",
    "plt.show()"
   ]
  },
  {
   "cell_type": "markdown",
   "id": "eaf3ceb7",
   "metadata": {},
   "source": [
    "---\n",
    "\n",
    "## Ejercicio 2 – Cálculo manual de desviación estándar\n",
    "\n",
    "En este ejercicio vas a calcular manualmente la desviación estándar, seleccionando cinco títulos reales del dataset de películas que cargaste antes.\n"
   ]
  },
  {
   "cell_type": "code",
   "execution_count": 17,
   "id": "3005c0f9",
   "metadata": {},
   "outputs": [],
   "source": [
    "# Crea una lista con 5 valores reales de df['title_length'], por ejemplo: [10, 13, 14, 18, 22]\n",
    "lista=[df['title_length'][4],df['title_length'][1],df['title_length'][45],df['title_length'][40],df['title_length'][49]]\n"
   ]
  },
  {
   "cell_type": "code",
   "execution_count": 19,
   "id": "d96b771f",
   "metadata": {},
   "outputs": [
    {
     "data": {
      "text/plain": [
       "np.float64(15.4)"
      ]
     },
     "execution_count": 19,
     "metadata": {},
     "output_type": "execute_result"
    }
   ],
   "source": [
    "# Calcula la media de los 5 valores\n",
    "media3=np.mean(lista)\n",
    "media3"
   ]
  },
  {
   "cell_type": "code",
   "execution_count": 20,
   "id": "346d0dc5",
   "metadata": {},
   "outputs": [
    {
     "name": "stdout",
     "output_type": "stream",
     "text": [
      "[np.float64(11.560000000000002), np.float64(5.760000000000002), np.float64(112.36), np.float64(1.960000000000001), np.float64(11.560000000000002)]\n"
     ]
    }
   ],
   "source": [
    "# Calcula las diferencias al cuadrado con respecto a la media\n",
    "dif=[]\n",
    "for i in lista:\n",
    "    dif.append((media3-i)**2)\n",
    "print(dif)"
   ]
  },
  {
   "cell_type": "code",
   "execution_count": 23,
   "id": "f56517ff",
   "metadata": {},
   "outputs": [
    {
     "name": "stdout",
     "output_type": "stream",
     "text": [
      "varianza es:28.640000000000004\n",
      "desviacion es:5.351635264103861\n"
     ]
    }
   ],
   "source": [
    "# Calcula la varianza (promedio de las diferencias al cuadrado) y su raíz cuadrada para obtener la desviación\n",
    "varianza3=np.mean(dif)\n",
    "desviacion3=varianza3**0.5\n",
    "print(\"varianza es:\" +str(varianza3))\n",
    "print(\"desviacion es:\" +str(desviacion3))"
   ]
  }
 ],
 "metadata": {
  "kernelspec": {
   "display_name": "Python 3",
   "language": "python",
   "name": "python3"
  },
  "language_info": {
   "codemirror_mode": {
    "name": "ipython",
    "version": 3
   },
   "file_extension": ".py",
   "mimetype": "text/x-python",
   "name": "python",
   "nbconvert_exporter": "python",
   "pygments_lexer": "ipython3",
   "version": "3.11.4"
  }
 },
 "nbformat": 4,
 "nbformat_minor": 5
}
